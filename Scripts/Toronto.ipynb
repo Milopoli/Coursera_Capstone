{
 "cells": [
  {
   "cell_type": "markdown",
   "metadata": {},
   "source": [
    "# Peer-graded Assignment: Segmenting and Clustering Neighborhoods in Toronto"
   ]
  },
  {
   "cell_type": "markdown",
   "metadata": {},
   "source": [
    "### Start by importing libraries"
   ]
  },
  {
   "cell_type": "code",
   "execution_count": null,
   "metadata": {},
   "outputs": [],
   "source": [
    "import numpy as np # library to handle data in a vectorized manner\r\n",
    "\r\n",
    "import pandas as pd # library for data analsysis\r\n",
    "pd.set_option('display.max_columns', None)\r\n",
    "pd.set_option('display.max_rows', None)\r\n",
    "\r\n",
    "import json # library to handle JSON files\r\n",
    "\r\n",
    "!pip install geopy # if not yet installed\r\n",
    "from geopy.geocoders import Nominatim # convert an address into latitude and longitude values\r\n",
    "\r\n",
    "import requests # library to handle requests\r\n",
    "from pandas.io.json import json_normalize # tranform JSON file into a pandas dataframe\r\n",
    "\r\n",
    "# Matplotlib and associated plotting modules\r\n",
    "import matplotlib.cm as cm\r\n",
    "import matplotlib.colors as colors\r\n",
    "\r\n",
    "# import k-means from clustering stage\r\n",
    "from sklearn.cluster import KMeans\r\n",
    "\r\n",
    "!pip install folium # if not yet installed\r\n",
    "import folium # map rendering library\r\n",
    "\r\n",
    "#!pip install bs4 # Uncomment if bs4 is not installed\r\n",
    "from bs4 import BeautifulSoup # import BeautifulSoup\r\n",
    "\r\n",
    "print('Libraries imported.')"
   ]
  },
  {
   "cell_type": "markdown",
   "metadata": {},
   "source": [
    "### Creates url and saves it as a BeautifulSoup object"
   ]
  },
  {
   "cell_type": "code",
   "execution_count": null,
   "metadata": {},
   "outputs": [],
   "source": [
    "website_url = requests.get('https://en.wikipedia.org/wiki/List_of_postal_codes_of_Canada:_M')\r\n",
    "soup = BeautifulSoup(website_url.content,'html.parser')"
   ]
  },
  {
   "cell_type": "code",
   "execution_count": null,
   "metadata": {},
   "outputs": [],
   "source": [
    "#print(soup.prettify()) # Uncomment if you want to see the html data"
   ]
  },
  {
   "cell_type": "markdown",
   "metadata": {},
   "source": [
    "### Saving raw html data into a panda dataframe"
   ]
  },
  {
   "cell_type": "code",
   "execution_count": null,
   "metadata": {},
   "outputs": [],
   "source": [
    "table_contents=[]\r\n",
    "table=soup.find('table')\r\n",
    "for row in table.findAll('td'):\r\n",
    "    cell = {}\r\n",
    "    if row.span.text=='Not assigned':\r\n",
    "        pass\r\n",
    "    else:\r\n",
    "        cell['PostalCode'] = row.p.text[:3]\r\n",
    "        cell['Borough'] = (row.span.text).split('(')[0]\r\n",
    "        cell['Neighborhood'] = (((((row.span.text).split('(')[1]).strip(')')).replace(' /',',')).replace(')',' ')).strip(' ')\r\n",
    "        table_contents.append(cell)\r\n",
    "\r\n",
    "# print(table_contents)\r\n",
    "df=pd.DataFrame(table_contents)\r\n",
    "df['Borough']=df['Borough'].replace({'Downtown TorontoStn A PO Boxes25 The Esplanade':'Downtown Toronto Stn A',\r\n",
    "                                             'East TorontoBusiness reply mail Processing Centre969 Eastern':'East Toronto Business',\r\n",
    "                                             'EtobicokeNorthwest':'Etobicoke Northwest','East YorkEast Toronto':'East York/East Toronto',\r\n",
    "                                             'MississaugaCanada Post Gateway Processing Centre':'Mississauga'})"
   ]
  },
  {
   "cell_type": "markdown",
   "metadata": {},
   "source": [
    "### Print first 5 entries of data frame and shape"
   ]
  },
  {
   "cell_type": "code",
   "execution_count": null,
   "metadata": {},
   "outputs": [],
   "source": [
    "df.head()"
   ]
  },
  {
   "cell_type": "code",
   "execution_count": null,
   "metadata": {},
   "outputs": [],
   "source": [
    "df.shape"
   ]
  },
  {
   "cell_type": "markdown",
   "metadata": {},
   "source": [
    "### Creating a new dataframe and reading in csv file for coordinates since geocoder does not work at the moment"
   ]
  },
  {
   "cell_type": "code",
   "execution_count": null,
   "metadata": {},
   "outputs": [],
   "source": [
    "#Creating new df\r\n",
    "column_names = ['PostalCode', 'Borough', 'Neighborhood', 'Latitude', 'Longitude'] \r\n",
    "neighborhoods = pd.DataFrame(columns=column_names)\r\n",
    "\r\n",
    "#Importing coordinate df\r\n",
    "coordinates = pd.read_csv('Geospatial_Coordinates.csv')"
   ]
  },
  {
   "cell_type": "markdown",
   "metadata": {},
   "source": [
    "### Iterating through each entry and checking for correct coordinates and adding to new dataframe"
   ]
  },
  {
   "cell_type": "code",
   "execution_count": null,
   "metadata": {},
   "outputs": [],
   "source": [
    "# Iterating through neighborhood df\r\n",
    "for i in range(len(df)):\r\n",
    "\r\n",
    "    postalCode = df.iloc[i]['PostalCode']\r\n",
    "    borough = df.iloc[i]['Borough'] \r\n",
    "    neighborhood_name = df.iloc[i]['Neighborhood']\r\n",
    "    n_lon = None\r\n",
    "    n_lat = None\r\n",
    "\r\n",
    "    # Iterating through coordinates df\r\n",
    "    for j in range(len(coordinates)):\r\n",
    "        if postalCode == coordinates.loc[j][0]:\r\n",
    "            n_lat = coordinates.loc[j][1]\r\n",
    "            n_lon = coordinates.loc[j][2]\r\n",
    "\r\n",
    "    # Appending data to new df\r\n",
    "    neighborhoods = neighborhoods.append({'PostalCode': postalCode,\r\n",
    "                                          'Borough': borough,\r\n",
    "                                          'Neighborhood': neighborhood_name,\r\n",
    "                                          'Latitude': n_lat,\r\n",
    "                                          'Longitude': n_lon}, ignore_index=True)"
   ]
  },
  {
   "cell_type": "markdown",
   "metadata": {},
   "source": [
    "### New dataframe first 5 entries and shape"
   ]
  },
  {
   "cell_type": "code",
   "execution_count": null,
   "metadata": {},
   "outputs": [],
   "source": [
    "neighborhoods.head()"
   ]
  },
  {
   "cell_type": "code",
   "execution_count": null,
   "metadata": {},
   "outputs": [],
   "source": [
    "neighborhoods.shape"
   ]
  },
  {
   "cell_type": "markdown",
   "metadata": {},
   "source": [
    "### Getting Coordinates for Toronto"
   ]
  },
  {
   "cell_type": "code",
   "execution_count": null,
   "metadata": {},
   "outputs": [],
   "source": [
    "address = 'Toronto, Canada'\r\n",
    "\r\n",
    "geolocator = Nominatim(user_agent=\"toronto_explorer\")\r\n",
    "location = geolocator.geocode(address)\r\n",
    "latitude = location.latitude\r\n",
    "longitude = location.longitude\r\n",
    "print('The geograpical coordinate of Toronto, Canada are {}, {}.'.format(latitude, longitude))"
   ]
  },
  {
   "cell_type": "markdown",
   "metadata": {},
   "source": [
    "### Using Folium to create a map with neighborhoods marked"
   ]
  },
  {
   "cell_type": "code",
   "execution_count": null,
   "metadata": {},
   "outputs": [],
   "source": [
    "# Creating a map of Toronto using latitude and longitude values\r\n",
    "map_toronto = folium.Map(location=[latitude, longitude], zoom_start=11)\r\n",
    "\r\n",
    "# Adding markers to map\r\n",
    "for lat, lng, label in zip(neighborhoods['Latitude'], neighborhoods['Longitude'], neighborhoods['Neighborhood']):\r\n",
    "    label = folium.Popup(label, parse_html=True)\r\n",
    "    folium.CircleMarker(\r\n",
    "        [lat, lng],\r\n",
    "        radius=5,\r\n",
    "        popup=label,\r\n",
    "        color='blue',\r\n",
    "        fill=True,\r\n",
    "        fill_color='#3186cc',\r\n",
    "        fill_opacity=0.7,\r\n",
    "        parse_html=False).add_to(map_toronto)  \r\n",
    "    \r\n",
    "map_toronto"
   ]
  },
  {
   "cell_type": "markdown",
   "metadata": {},
   "source": [
    "## I will compare the neighborhoods in regards to venues using K-means"
   ]
  },
  {
   "cell_type": "markdown",
   "metadata": {},
   "source": [
    "### Defining parameters for Foursquare extraction"
   ]
  },
  {
   "cell_type": "code",
   "execution_count": null,
   "metadata": {},
   "outputs": [],
   "source": [
    "CLIENT_ID = 'VQDQPVLJJG2IMTHHORGUYVPFNIL2J2LHCCJE2JX2UFJH0E2Y' # your Foursquare ID\r\n",
    "CLIENT_SECRET = 'WP3N1IYMKRQRPOFEK44BCIIOMLZPB1WK11JOXNEFBXK1HDSP' # your Foursquare Secret\r\n",
    "VERSION = '20180605' # Foursquare API version\r\n",
    "LIMIT = 100 # A default Foursquare API limit value\r\n",
    "radius = 500"
   ]
  },
  {
   "cell_type": "markdown",
   "metadata": {},
   "source": [
    "### Function for getting information about venues"
   ]
  },
  {
   "cell_type": "code",
   "execution_count": null,
   "metadata": {},
   "outputs": [],
   "source": [
    "def getNearbyVenues(names, latitudes, longitudes, radius=500):\r\n",
    "    venues_list=[]\r\n",
    "    for name, lat, lng in zip(names, latitudes, longitudes):\r\n",
    "        # create the API request URL\r\n",
    "        url = 'https://api.foursquare.com/v2/venues/explore?&client_id={}&client_secret={}&v={}&ll={},{}&radius={}&limit={}'.format(\r\n",
    "            CLIENT_ID, \r\n",
    "            CLIENT_SECRET, \r\n",
    "            VERSION, \r\n",
    "            lat, \r\n",
    "            lng, \r\n",
    "            radius, \r\n",
    "            LIMIT) \r\n",
    "        # make the GET request\r\n",
    "        results = requests.get(url).json()[\"response\"]['groups'][0]['items']  \r\n",
    "        # return only relevant information for each nearby venue\r\n",
    "        venues_list.append([(\r\n",
    "            name, \r\n",
    "            lat, \r\n",
    "            lng, \r\n",
    "            v['venue']['name'], \r\n",
    "            v['venue']['location']['lat'], \r\n",
    "            v['venue']['location']['lng'],  \r\n",
    "            v['venue']['categories'][0]['name']) for v in results])\r\n",
    "    nearby_venues = pd.DataFrame([item for venue_list in venues_list for item in venue_list])\r\n",
    "    nearby_venues.columns = ['Neighborhood', \r\n",
    "                  'Neighborhood Latitude', \r\n",
    "                  'Neighborhood Longitude', \r\n",
    "                  'Venue', \r\n",
    "                  'Venue Latitude', \r\n",
    "                  'Venue Longitude', \r\n",
    "                  'Venue Category']\r\n",
    "    return(nearby_venues)"
   ]
  },
  {
   "cell_type": "markdown",
   "metadata": {},
   "source": [
    "### Using function and saving results in variable"
   ]
  },
  {
   "cell_type": "code",
   "execution_count": null,
   "metadata": {},
   "outputs": [],
   "source": [
    "toronto_venues = getNearbyVenues(names=neighborhoods['Neighborhood'],\r\n",
    "                                   latitudes=neighborhoods['Latitude'],\r\n",
    "                                   longitudes=neighborhoods['Longitude']\r\n",
    "                                  )\r\n"
   ]
  },
  {
   "cell_type": "code",
   "execution_count": null,
   "metadata": {},
   "outputs": [],
   "source": [
    "toronto_venues.head()"
   ]
  },
  {
   "cell_type": "code",
   "execution_count": null,
   "metadata": {},
   "outputs": [],
   "source": [
    "toronto_venues.shape"
   ]
  },
  {
   "cell_type": "code",
   "execution_count": null,
   "metadata": {},
   "outputs": [],
   "source": [
    "# One hot encoding\r\n",
    "toronto_onehot = pd.get_dummies(toronto_venues[['Venue Category']], prefix=\"\", prefix_sep=\"\")\r\n",
    "\r\n",
    "# Adding a neighborhood column to the dataframe\r\n",
    "toronto_onehot['Neighborhood'] = toronto_venues['Neighborhood'] \r\n",
    "\r\n",
    "# Moving neighborhood column to the first column\r\n",
    "cols = list(toronto_onehot)\r\n",
    "cols.insert(0, cols.pop(cols.index('Neighborhood')))\r\n",
    "toronto_onehot = toronto_onehot.loc[:, cols]\r\n",
    "toronto_onehot.head()\r\n"
   ]
  },
  {
   "cell_type": "code",
   "execution_count": null,
   "metadata": {},
   "outputs": [],
   "source": [
    "# Grouping venues based on neighborhood\r\n",
    "toronto_grouped = toronto_onehot.groupby('Neighborhood').mean().reset_index()"
   ]
  },
  {
   "cell_type": "code",
   "execution_count": null,
   "metadata": {},
   "outputs": [],
   "source": [
    "# Printing top 5 venues per neighborhood\r\n",
    "num_top_venues = 5\r\n",
    "\r\n",
    "for hood in toronto_grouped['Neighborhood']:\r\n",
    "    print(\"----\"+hood+\"----\")\r\n",
    "    temp = toronto_grouped[toronto_grouped['Neighborhood'] == hood].T.reset_index()\r\n",
    "    temp.columns = ['venue','freq']\r\n",
    "    temp = temp.iloc[1:]\r\n",
    "    temp['freq'] = temp['freq'].astype(float)\r\n",
    "    temp = temp.round({'freq': 2})\r\n",
    "    print(temp.sort_values('freq', ascending=False).reset_index(drop=True).head(num_top_venues))\r\n",
    "    print('\\n')"
   ]
  },
  {
   "cell_type": "code",
   "execution_count": null,
   "metadata": {},
   "outputs": [],
   "source": [
    "# Function for sorting venues in descending order\r\n",
    "def return_most_common_venues(row, num_top_venues):\r\n",
    "    row_categories = row.iloc[1:]\r\n",
    "    row_categories_sorted = row_categories.sort_values(ascending=False)\r\n",
    "    \r\n",
    "    return row_categories_sorted.index.values[0:num_top_venues]"
   ]
  },
  {
   "cell_type": "code",
   "execution_count": null,
   "metadata": {},
   "outputs": [],
   "source": [
    "num_top_venues = 10\r\n",
    "\r\n",
    "indicators = ['st', 'nd', 'rd']\r\n",
    "\r\n",
    "# Creating columns according to number of top venues\r\n",
    "columns = ['Neighborhood']\r\n",
    "for ind in np.arange(num_top_venues):\r\n",
    "    try:\r\n",
    "        columns.append('{}{} Most Common Venue'.format(ind+1, indicators[ind]))\r\n",
    "    except:\r\n",
    "        columns.append('{}th Most Common Venue'.format(ind+1))\r\n",
    "\r\n",
    "# Creating a new dataframe\r\n",
    "neighborhoods_venues_sorted = pd.DataFrame(columns=columns)\r\n",
    "neighborhoods_venues_sorted['Neighborhood'] = toronto_grouped['Neighborhood']\r\n",
    "\r\n",
    "for ind in np.arange(toronto_grouped.shape[0]):\r\n",
    "    neighborhoods_venues_sorted.iloc[ind, 1:] = return_most_common_venues(toronto_grouped.iloc[ind, :], num_top_venues)\r\n",
    "\r\n",
    "neighborhoods_venues_sorted.head()"
   ]
  },
  {
   "cell_type": "markdown",
   "metadata": {},
   "source": [
    "### Using K-means clustering for analysis"
   ]
  },
  {
   "cell_type": "code",
   "execution_count": null,
   "metadata": {},
   "outputs": [],
   "source": [
    "# Clustering using K-means\r\n",
    "\r\n",
    "#Using 7 clusters\r\n",
    "kclusters = 7\r\n",
    "\r\n",
    "toronto_grouped_clustering = toronto_grouped.drop('Neighborhood', 1)\r\n",
    "\r\n",
    "# Running k-means clustering\r\n",
    "kmeans = KMeans(n_clusters=kclusters, random_state=0).fit(toronto_grouped_clustering)\r\n",
    "\r\n",
    "# Labels generated\r\n",
    "kmeans.labels_"
   ]
  },
  {
   "cell_type": "code",
   "execution_count": null,
   "metadata": {},
   "outputs": [],
   "source": [
    "# Adding clustering labels\r\n",
    "neighborhoods_venues_sorted.insert(0, 'Cluster Labels', kmeans.labels_)\r\n",
    "\r\n",
    "toronto_merged = neighborhoods\r\n",
    "\r\n",
    "# Merging toronto_merged with neighborhood data to add latitude/longitude for each neighborhood\r\n",
    "toronto_merged = toronto_merged.join(neighborhoods_venues_sorted.set_index('Neighborhood'), on='Neighborhood')\r\n",
    "\r\n",
    "# Dropping NaN rows\r\n",
    "toronto_merged.dropna(subset = ['Cluster Labels'], inplace=True)"
   ]
  },
  {
   "cell_type": "code",
   "execution_count": null,
   "metadata": {},
   "outputs": [],
   "source": [
    "# Converting label column to integer since it for some reason decided to be float\r\n",
    "toronto_merged['Cluster Labels'] = toronto_merged['Cluster Labels'].astype(int)"
   ]
  },
  {
   "cell_type": "code",
   "execution_count": null,
   "metadata": {},
   "outputs": [],
   "source": [
    "# Another folium map for visualizing clusters\r\n",
    "\r\n",
    "# create map\r\n",
    "map_clusters = folium.Map(location=[latitude, longitude], zoom_start=11)\r\n",
    "\r\n",
    "# set color scheme for the clusters\r\n",
    "x = np.arange(kclusters)\r\n",
    "ys = [i + x + (i*x)**2 for i in range(kclusters)]\r\n",
    "colors_array = cm.rainbow(np.linspace(0, 1, len(ys)))\r\n",
    "rainbow = [colors.rgb2hex(i) for i in colors_array]\r\n",
    "\r\n",
    "# add markers to the map\r\n",
    "markers_colors = []\r\n",
    "for lat, lon, poi, cluster in zip(toronto_merged['Latitude'], toronto_merged['Longitude'], toronto_merged['Neighborhood'], toronto_merged['Cluster Labels']):\r\n",
    "    label = folium.Popup(str(poi) + ' Cluster ' + str(cluster), parse_html=True)\r\n",
    "    folium.CircleMarker(\r\n",
    "        [lat, lon],\r\n",
    "        radius=5,\r\n",
    "        popup=label,\r\n",
    "        color=rainbow[cluster-1],\r\n",
    "        fill=True,\r\n",
    "        fill_color=rainbow[cluster-1],\r\n",
    "        fill_opacity=0.7).add_to(map_clusters)\r\n",
    "       \r\n",
    "map_clusters"
   ]
  },
  {
   "cell_type": "markdown",
   "metadata": {},
   "source": [
    "## Visual results\r\n",
    "As can be seen in the visualized results: there are no geographical indications of where similar neighborhoods are located, nor are they geographically grouped.\r\n",
    "Most neighborhoods fall under the same category with a few exceptions. We can however note thtat most neighborhood that are different from the majority (marked in red) are located outside the center of the city.\r\n"
   ]
  }
 ],
 "metadata": {
  "interpreter": {
   "hash": "b3ba2566441a7c06988d0923437866b63cedc61552a5af99d1f4fb67d367b25f"
  },
  "kernelspec": {
   "display_name": "Python 3.8.5 64-bit ('base': conda)",
   "name": "python3"
  },
  "language_info": {
   "codemirror_mode": {
    "name": "ipython",
    "version": 3
   },
   "file_extension": ".py",
   "mimetype": "text/x-python",
   "name": "python",
   "nbconvert_exporter": "python",
   "pygments_lexer": "ipython3",
   "version": "3.8.5"
  },
  "orig_nbformat": 4
 },
 "nbformat": 4,
 "nbformat_minor": 2
}