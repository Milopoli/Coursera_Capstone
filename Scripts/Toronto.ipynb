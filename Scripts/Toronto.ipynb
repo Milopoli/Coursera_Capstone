{
 "cells": [
  {
   "cell_type": "markdown",
   "metadata": {},
   "source": [
    "# Peer-graded Assignment: Segmenting and Clustering Neighborhoods in Toronto"
   ]
  },
  {
   "cell_type": "markdown",
   "metadata": {},
   "source": [
    "### Start by importing libraries"
   ]
  },
  {
   "cell_type": "code",
   "execution_count": null,
   "metadata": {},
   "outputs": [],
   "source": [
    "import numpy as np # library to handle data in a vectorized manner\r\n",
    "\r\n",
    "import pandas as pd # library for data analsysis\r\n",
    "pd.set_option('display.max_columns', None)\r\n",
    "pd.set_option('display.max_rows', None)\r\n",
    "\r\n",
    "import json # library to handle JSON files\r\n",
    "\r\n",
    "!pip install geopy\r\n",
    "from geopy.geocoders import Nominatim # convert an address into latitude and longitude values\r\n",
    "\r\n",
    "import requests # library to handle requests\r\n",
    "from pandas.io.json import json_normalize # tranform JSON file into a pandas dataframe\r\n",
    "\r\n",
    "# Matplotlib and associated plotting modules\r\n",
    "import matplotlib.cm as cm\r\n",
    "import matplotlib.colors as colors\r\n",
    "\r\n",
    "# import k-means from clustering stage\r\n",
    "from sklearn.cluster import KMeans\r\n",
    "\r\n",
    "!pip install folium\r\n",
    "import folium # map rendering library\r\n",
    "\r\n",
    "#!pip install bs4 # Uncomment if bs4 is not installed\r\n",
    "from bs4 import BeautifulSoup # import BeautifulSoup\r\n",
    "\r\n",
    "print('Libraries imported.')"
   ]
  },
  {
   "cell_type": "markdown",
   "metadata": {},
   "source": [
    "### Creates url and saves it as a BeautifulSoup object"
   ]
  },
  {
   "cell_type": "code",
   "execution_count": null,
   "metadata": {},
   "outputs": [],
   "source": [
    "website_url = requests.get('https://en.wikipedia.org/wiki/List_of_postal_codes_of_Canada:_M')\r\n",
    "soup = BeautifulSoup(website_url.content,'html.parser')"
   ]
  },
  {
   "cell_type": "code",
   "execution_count": null,
   "metadata": {},
   "outputs": [],
   "source": [
    "#print(soup.prettify()) # Uncomment if you want to see the html data"
   ]
  },
  {
   "cell_type": "markdown",
   "metadata": {},
   "source": [
    "### Saving raw html data into a panda dataframe"
   ]
  },
  {
   "cell_type": "code",
   "execution_count": null,
   "metadata": {},
   "outputs": [],
   "source": [
    "table_contents=[]\r\n",
    "table=soup.find('table')\r\n",
    "for row in table.findAll('td'):\r\n",
    "    cell = {}\r\n",
    "    if row.span.text=='Not assigned':\r\n",
    "        pass\r\n",
    "    else:\r\n",
    "        cell['PostalCode'] = row.p.text[:3]\r\n",
    "        cell['Borough'] = (row.span.text).split('(')[0]\r\n",
    "        cell['Neighborhood'] = (((((row.span.text).split('(')[1]).strip(')')).replace(' /',',')).replace(')',' ')).strip(' ')\r\n",
    "        table_contents.append(cell)\r\n",
    "\r\n",
    "# print(table_contents)\r\n",
    "df=pd.DataFrame(table_contents)\r\n",
    "df['Borough']=df['Borough'].replace({'Downtown TorontoStn A PO Boxes25 The Esplanade':'Downtown Toronto Stn A',\r\n",
    "                                             'East TorontoBusiness reply mail Processing Centre969 Eastern':'East Toronto Business',\r\n",
    "                                             'EtobicokeNorthwest':'Etobicoke Northwest','East YorkEast Toronto':'East York/East Toronto',\r\n",
    "                                             'MississaugaCanada Post Gateway Processing Centre':'Mississauga'})"
   ]
  },
  {
   "cell_type": "markdown",
   "metadata": {},
   "source": [
    "### Print first 5 entries of data frame and shape"
   ]
  },
  {
   "cell_type": "code",
   "execution_count": null,
   "metadata": {},
   "outputs": [],
   "source": [
    "df.head()"
   ]
  },
  {
   "cell_type": "code",
   "execution_count": null,
   "metadata": {},
   "outputs": [],
   "source": [
    "df.shape"
   ]
  },
  {
   "cell_type": "markdown",
   "metadata": {},
   "source": [
    "### Creating a new dataframe and reading in csv file for coordinates since geocoder does not work at the moment"
   ]
  },
  {
   "cell_type": "code",
   "execution_count": null,
   "metadata": {},
   "outputs": [],
   "source": [
    "#Creating new df\r\n",
    "column_names = ['PostalCode', 'Borough', 'Neighborhood', 'Latitude', 'Longitude'] \r\n",
    "neighborhoods = pd.DataFrame(columns=column_names)\r\n",
    "\r\n",
    "#Importing coordinate df\r\n",
    "coordinates = pd.read_csv('Geospatial_Coordinates.csv')"
   ]
  },
  {
   "cell_type": "markdown",
   "metadata": {},
   "source": [
    "### Iterating through each entry and checking for correct coordinates and adding to new dataframe"
   ]
  },
  {
   "cell_type": "code",
   "execution_count": null,
   "metadata": {},
   "outputs": [],
   "source": [
    "# Iterating through neighborhood df\r\n",
    "for i in range(len(df)):\r\n",
    "\r\n",
    "    postalCode = df.iloc[i]['PostalCode']\r\n",
    "    borough = df.iloc[i]['Borough'] \r\n",
    "    neighborhood_name = df.iloc[i]['Neighborhood']\r\n",
    "    n_lon = None\r\n",
    "    n_lat = None\r\n",
    "\r\n",
    "    # Iterating through coordinates df\r\n",
    "    for j in range(len(coordinates)):\r\n",
    "        if postalCode == coordinates.loc[j][0]:\r\n",
    "            n_lat = coordinates.loc[j][1]\r\n",
    "            n_lon = coordinates.loc[j][2]\r\n",
    "\r\n",
    "    # Appending data to new df\r\n",
    "    neighborhoods = neighborhoods.append({'PostalCode': postalCode,\r\n",
    "                                          'Borough': borough,\r\n",
    "                                          'Neighborhood': neighborhood_name,\r\n",
    "                                          'Latitude': n_lat,\r\n",
    "                                          'Longitude': n_lon}, ignore_index=True)"
   ]
  },
  {
   "cell_type": "markdown",
   "metadata": {},
   "source": [
    "### New dataframe first 5 entries and shape"
   ]
  },
  {
   "cell_type": "code",
   "execution_count": null,
   "metadata": {},
   "outputs": [],
   "source": [
    "neighborhoods.head()"
   ]
  },
  {
   "cell_type": "code",
   "execution_count": null,
   "metadata": {},
   "outputs": [],
   "source": [
    "neighborhoods.shape"
   ]
  }
 ],
 "metadata": {
  "interpreter": {
   "hash": "b3ba2566441a7c06988d0923437866b63cedc61552a5af99d1f4fb67d367b25f"
  },
  "kernelspec": {
   "display_name": "Python 3.8.5 64-bit ('base': conda)",
   "name": "python3"
  },
  "language_info": {
   "codemirror_mode": {
    "name": "ipython",
    "version": 3
   },
   "file_extension": ".py",
   "mimetype": "text/x-python",
   "name": "python",
   "nbconvert_exporter": "python",
   "pygments_lexer": "ipython3",
   "version": "3.8.5"
  },
  "orig_nbformat": 4
 },
 "nbformat": 4,
 "nbformat_minor": 2
}